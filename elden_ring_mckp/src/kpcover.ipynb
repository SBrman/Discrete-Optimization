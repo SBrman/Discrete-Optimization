{
 "cells": [
  {
   "cell_type": "code",
   "execution_count": 1,
   "metadata": {},
   "outputs": [],
   "source": [
    "import numpy as np\n",
    "import gurobipy as grb"
   ]
  },
  {
   "cell_type": "code",
   "execution_count": 2,
   "metadata": {},
   "outputs": [],
   "source": [
    "def generateData(n):\n",
    "    v = np.random.uniform(0, 100, size=(n))\n",
    "    w = np.random.uniform(0, 100, size=(n))\n",
    "    b = np.sum(w) * 0.2\n",
    "    return v, w, b"
   ]
  },
  {
   "cell_type": "code",
   "execution_count": 3,
   "metadata": {},
   "outputs": [
    {
     "name": "stdout",
     "output_type": "stream",
     "text": [
      "[97.28870363 15.98053637 36.35050858 36.41875693 26.58960581 21.07338935\n",
      " 53.95211819 73.93396436 40.74194222 15.55469619 23.27249039 14.43970712\n",
      "  7.46854656 74.85613985 38.62156682 53.29694061 54.74757366 66.92010433\n",
      " 59.0247228  42.79866317 81.12291298 29.30210441 55.88029176 14.38042524\n",
      " 99.22858632 60.50706568 82.68494971 20.93082178 22.08208713 11.97374967\n",
      " 50.4142563  45.35544781 12.68760532 85.54189317 88.56275409 71.06934688\n",
      " 59.40681408 19.46574276 47.3541541  92.57785519 42.21422344 10.03257346\n",
      " 63.70542912  9.96052989 85.947174   80.88315239  5.73108589 66.41453397\n",
      " 83.26830838 85.16514859 79.73057978 33.33084525 40.92676137 42.81565559\n",
      " 46.10713953  7.80064343 41.11350843 21.24939224  1.7918351  68.95586089\n",
      " 72.54136171 98.09691392 96.75519934 64.10595121 27.68642279 83.89468941\n",
      "  4.51965826 22.43676923 62.77175275 35.06198681 61.52506483 36.23485897\n",
      " 27.39082022 53.99618208 96.50985109 33.55858801 50.43250887 85.69759013\n",
      " 43.2496651  70.1415181  72.59672732 38.68786245 83.53640494 96.63984583\n",
      " 91.39060402  4.38728067 44.74096267 59.11111192 78.03432269 20.17261395\n",
      " 41.51295666  9.4808971  45.74618637 11.0501311  94.59071772 60.19706249\n",
      " 95.92794372 12.60267038 79.62828425 13.20513937]\n",
      "[96.552484    1.36559423  1.25428964 59.65515447 54.05218062 88.78844529\n",
      " 26.08085976 39.45807627 78.61931624 44.00967683 86.95816797 71.64325617\n",
      " 87.29118727 34.30490131 25.02539434 13.87365866 35.30448202 48.14878231\n",
      " 60.89654061 78.92040712 96.57742583 88.71810665 21.9451378  31.33185237\n",
      " 44.9342844  18.06158968 91.52593858 32.46456658 77.5038253  40.74400754\n",
      " 46.78554222 45.34721471 59.40536172 19.23538732 48.31504703  9.15568177\n",
      " 84.3377344  71.62651323 37.24058874 47.24139454 84.60627489 36.15583836\n",
      " 85.32329166 27.19857235  2.8616732  77.7009075  40.38592557 94.92174506\n",
      " 67.70861397 84.133453   99.78475271 27.4246101   4.23128731 15.84151227\n",
      " 84.63096551 84.72668928 39.2385633  87.71970153 77.11797086 46.30273376\n",
      " 16.53185174  8.77543778 32.41827247 61.55983218 47.85928519 12.99893552\n",
      " 34.8503851  89.95286559  9.54142839 82.15120987 21.91729404 98.8184433\n",
      " 62.43402279  2.18351482 58.52132582  7.90827837 73.66565407 27.89717922\n",
      " 12.5011082  63.63568529 64.18982391 42.30302703 14.68798037 29.0077248\n",
      " 74.32281096 84.90660442 30.07616926 56.65389075 65.28806813 69.48002387\n",
      " 55.76661277 64.36201498 42.65122218 34.73170248 88.7935765  22.91988526\n",
      " 15.64290464 50.07702914 88.97858893 44.98942996]\n",
      "1015.7332475660584\n"
     ]
    }
   ],
   "source": [
    "v, w, b = generateData(100)\n",
    "\n",
    "for x in [v, w, b]:\n",
    "    print(x)"
   ]
  },
  {
   "cell_type": "code",
   "execution_count": 19,
   "metadata": {},
   "outputs": [],
   "source": [
    "def gurobiKP(values, weights, budget, verbose=0) -> tuple[dict, float]:\n",
    "    \"\"\"\n",
    "    Returns the selected items and objective value \n",
    "    after solving the IP directly with Gurobi.\n",
    "    \"\"\"\n",
    "\n",
    "    n = len(values)\n",
    "\n",
    "    model = grb.Model(\"0-1 Knapsack\")\n",
    "    if not verbose: model.Params.OutputFlag = 0\n",
    "    \n",
    "    # Variables\n",
    "    x = model.addVars(n, vtype=grb.GRB.BINARY)\n",
    "    \n",
    "    # Constraints\n",
    "    model.addConstr(grb.quicksum(weights[i] * x[i] for i in range(n)) <= budget)\n",
    "    model.addConstr(grb.quicksum(x[i] for i in range(n)) == 4)\n",
    "    \n",
    "    # Objective\n",
    "    model.setObjective(grb.quicksum(values[i] * x[i] for i in range(n)), sense=grb.GRB.MAXIMIZE)\n",
    "    \n",
    "    model.optimize()\n",
    "    \n",
    "    solution = {i for i in range(n) if x[i].x > 0}\n",
    "    return solution, model.ObjVal\n",
    "    "
   ]
  },
  {
   "cell_type": "code",
   "execution_count": 5,
   "metadata": {},
   "outputs": [
    {
     "name": "stdout",
     "output_type": "stream",
     "text": [
      "Academic license - for non-commercial use only - expires 2022-08-07\n",
      "Using license file C:\\Users\\Simanta\\gurobi.lic\n",
      "{1, 2, 6, 7, 13, 14, 15, 16, 17, 22, 24, 25, 30, 33, 34, 35, 39, 44, 48, 52, 53, 59, 60, 61, 62, 65, 68, 70, 73, 74, 75, 77, 78, 82, 83, 84, 86, 95, 96} 2655.3849444271505\n"
     ]
    }
   ],
   "source": [
    "x, z = gurobiKP(v, w, b)\n",
    "print(x, z)"
   ]
  },
  {
   "cell_type": "code",
   "execution_count": 6,
   "metadata": {},
   "outputs": [],
   "source": [
    "def getCover(weight, budget, x_bar, verbose=0) -> tuple[dict, float]:\n",
    "    \"\"\"Returns the cover and the objective value\"\"\"\n",
    "    \n",
    "\n",
    "    n = len(weight)\n",
    "    \n",
    "    model = grb.Model(\"Cover\")\n",
    "    if not verbose: model.Params.OutputFlag = 0\n",
    "\n",
    "    # Variables\n",
    "    z = model.addVars(n, vtype=grb.GRB.BINARY)\n",
    "\n",
    "    # Constraints\n",
    "    model.addConstr(grb.quicksum(weight[i] * z[i] for i in range(n)) >= budget + 1)\n",
    "    \n",
    "    # Objective\n",
    "    model.setObjective(grb.quicksum((1 - x_bar[i]) * z[i] for i in range(n)))\n",
    "    \n",
    "    # Solve\n",
    "    model.optimize()\n",
    "    \n",
    "    solution = {i for i in range(n) if z[i].x > 0}\n",
    "    return solution, model.ObjVal\n",
    "    "
   ]
  },
  {
   "cell_type": "code",
   "execution_count": 7,
   "metadata": {},
   "outputs": [
    {
     "name": "stdout",
     "output_type": "stream",
     "text": [
      "{89, 98, 5, 10, 42, 74, 50, 24, 57, 26, 28, 94, 63}\n"
     ]
    }
   ],
   "source": [
    "x_bar = {i: np.random.uniform(0, 1) for i, _ in enumerate(w)}\n",
    "x, z = getCover(w, b, x_bar)\n",
    "\n",
    "print(x)"
   ]
  },
  {
   "cell_type": "code",
   "execution_count": 8,
   "metadata": {},
   "outputs": [],
   "source": [
    "def lift(cover: dict, alphas: dict, t: int, weights: float, budget: float, verbose=0) -> int:\n",
    "    \"\"\"\n",
    "    Returns alpha for the variable for the given t \n",
    "    after lifting the variable for the given t, cover and the KP instance.\n",
    "    \"\"\"\n",
    "\n",
    "    if t in cover:\n",
    "        return 1\n",
    "    elif t in alphas:    # If already lifted\n",
    "        return alphas[t]\n",
    "    \n",
    "    n = len(values)\n",
    "    \n",
    "    # Case 1: x[t] = 0, inequality created by the input cover and alphas is valid\n",
    "    # Nothing to do\n",
    "    \n",
    "    # Case 2: x[t] = 1\n",
    "    model = grb.Model(\"Lifting\")\n",
    "    if not verbose: model.Params.OutputFlag = 0\n",
    "    \n",
    "    # Variables with x[t] set to 1, for other indeces binary variables are created.\n",
    "    x = {i: model.addVar(vtype=grb.GRB.BINARY, name=f'x_{i}') for i in range(n) if i != t}\n",
    "    \n",
    "    # Constraints\n",
    "    model.addConstr(\n",
    "        grb.quicksum(weights[i] * x[i] for i in alphas)\n",
    "        + grb.quicksum(weights[i] * x[i] for i in cover) <= budget - weights[t]\n",
    "    )\n",
    "    \n",
    "    # Objective\n",
    "    model.setObjective(\n",
    "        grb.quicksum(alpha_i * x[i] for i, alpha_i in alphas.items())\n",
    "        + grb.quicksum(x[i] for i in cover)\n",
    "    )\n",
    "    \n",
    "    if verbose:\n",
    "        print('Constraints: ' \n",
    "            + ' + '.join(f'{weights[i]} * x_{i+1}' for i in alphas) \n",
    "            + ' + ' + ' + '.join(f'{weights[i]} * x_{i+1}' for i in cover) \n",
    "            + f' <= {budget} - {weights[t]}')\n",
    "    \n",
    "    # print(model.getObjective())\n",
    "    \n",
    "    model.ModelSense = grb.GRB.MAXIMIZE\n",
    "    \n",
    "    # Solve\n",
    "    model.optimize()\n",
    "    \n",
    "    # Get the alpha for index t\n",
    "    zeta_t = model.ObjVal\n",
    "    alpha = len(cover) - 1 - zeta_t\n",
    "    \n",
    "    return alpha if alpha >= 0 else 0\n",
    "    "
   ]
  },
  {
   "cell_type": "code",
   "execution_count": 9,
   "metadata": {},
   "outputs": [],
   "source": [
    "# a = [12, 9, 7, 5, 5, 3]\n",
    "# budget = 14\n",
    "# x_bar = {i: 0 for i, _ in enumerate(a)}\n",
    "\n",
    "# c, z = getCover(a, budget, x_bar)\n",
    "# alphas = {}\n",
    "# cc = {2, 4, 5}\n",
    "\n",
    "# a1 = lift(cc, alphas, 0, a, budget)\n",
    "# print(a1)\n",
    "\n",
    "# alphas[0] = int(a1)\n",
    "# a2 = lift(cc, alphas, 1, a, budget)\n",
    "# print(a2)\n",
    "\n",
    "\n",
    "# alphas[1] = a2\n",
    "# a3 = lift(cc, alphas, 3, a, budget)\n",
    "# print(a3)\n"
   ]
  },
  {
   "cell_type": "code",
   "execution_count": 22,
   "metadata": {},
   "outputs": [
    {
     "name": "stdout",
     "output_type": "stream",
     "text": [
      "{0: 1.0, 24: 1.0, 61: 1.0, 62: 1.0} 391.3694032081638\n"
     ]
    }
   ],
   "source": [
    "from itertools import permutations\n",
    "\n",
    "class HashableDict(dict):\n",
    "    def __hash__(self):\n",
    "        return hash(frozenset(self))\n",
    "\n",
    "\n",
    "# Original\n",
    "v = v#[10, 10, 10, 10, 10, 10]\n",
    "a = w#[12, 9, 7, 5, 5, 3]\n",
    "n = len(a)\n",
    "budget = b#14\n",
    "ineqs = set()\n",
    "fd_ineqs = set()\n",
    "\n",
    "\n",
    "model = grb.Model(\"init-model\")\n",
    "model.Params.OutputFlag = 0\n",
    "\n",
    "x = model.addVars(len(a), lb=0, ub=1, vtype=grb.GRB.CONTINUOUS)\n",
    "\n",
    "model.addConstr(grb.quicksum(a[i] * x[i] for i in range(len(a))) <= budget)\n",
    "model.addConstr(grb.quicksum(x[i] for i in range(len(a))) == 4)\n",
    "\n",
    "model.setObjective(grb.quicksum(v[i] * x[i] for i in range(len(a))))\n",
    "\n",
    "model.ModelSense = grb.GRB.MAXIMIZE\n",
    "model.optimize()\n",
    "\n",
    "\n",
    "x_new = {i: x_i.x for i, x_i in x.items()}\n",
    "\n",
    "alphas = {}\n",
    "\n",
    "while True:\n",
    "    # Find cover for that x_bar\n",
    "    cover, zeta = getCover(weight=a, budget=budget, x_bar=x_new)\n",
    "    c = len(cover)\n",
    "    \n",
    "    if zeta >= 1:   # Because x* satisfies all cover inequalities at this point.\n",
    "        break\n",
    "\n",
    "    values = dict(enumerate(a)) \n",
    "\n",
    "    # Sequential Lifting:\n",
    "    # Choose an ordering\n",
    "    ordering = list(set(range(n)) - set(alphas.keys()))\n",
    "\n",
    "    # Permute the ordering and lift to get more inequalities\n",
    "    permuted_orderings = permutations(ordering, len(ordering))\n",
    "    \n",
    "    for ii, permuted_ordering in enumerate(permuted_orderings):\n",
    "        if ii > 5: break\n",
    "        \n",
    "        # Turn the tuple of permuted ordering into indexable list\n",
    "        permuted_ordering = list(permuted_ordering)\n",
    "\n",
    "        # Update alphas from last iteration\n",
    "        new_alphas = alphas\n",
    "        \n",
    "        # Stop if t == r meaning alpha for the last index of the ordering is done.\n",
    "        while len(permuted_ordering) != 0:  \n",
    "            \n",
    "            # Choose an index, t\n",
    "            t = permuted_ordering.pop()\n",
    "            \n",
    "            # Perform Lifting\n",
    "            alpha_t = lift(cover, new_alphas, t, values, budget)\n",
    "\n",
    "            # Add alpha_t to the alphas if greater than 0\n",
    "            if alpha_t:\n",
    "                new_alphas[t] = alpha_t\n",
    "                \n",
    "            # print(new_alphas)\n",
    "            # Put the new inequality in a set\n",
    "            na = {'alphas': new_alphas.copy(), 'cover': cover}\n",
    "            ineqs.add(HashableDict(na))\n",
    "            \n",
    "        fd_ineqs.add(HashableDict(na))\n",
    "\n",
    "    # Add the new inequalities to the master problem and solve it.\n",
    "    for ineq in ineqs:\n",
    "        model.addConstr(grb.quicksum(ineq_i * x[i] for i, ineq_i in ineq['alphas'].items()) <= len(ineq['cover']) - 1)\n",
    "    model.update()\n",
    "    model.optimize()\n",
    "    x_new = {i: x[i].x for i in x}\n",
    "    \n",
    "            \n",
    "# print(ineqs)\n",
    "# print()\n",
    "# print(fd_ineqs)\n",
    "solution = {i: x_i.x for i, x_i in x.items() if x_i.x > 0.5}\n",
    "print(solution, model.ObjVal)\n",
    "    "
   ]
  },
  {
   "cell_type": "code",
   "execution_count": 20,
   "metadata": {},
   "outputs": [
    {
     "data": {
      "text/plain": [
       "({0, 24, 61, 62}, 391.3694032081638)"
      ]
     },
     "execution_count": 20,
     "metadata": {},
     "output_type": "execute_result"
    }
   ],
   "source": [
    "gurobiKP(values=v, weights=a, budget=budget)"
   ]
  },
  {
   "cell_type": "code",
   "execution_count": null,
   "metadata": {},
   "outputs": [],
   "source": []
  }
 ],
 "metadata": {
  "interpreter": {
   "hash": "61d7d44c7b0810df7d7c7fd48176b930bf62f03c8837c73c097d594a60c6b5d5"
  },
  "kernelspec": {
   "display_name": "Python 3.9.4 64-bit",
   "language": "python",
   "name": "python3"
  },
  "language_info": {
   "codemirror_mode": {
    "name": "ipython",
    "version": 3
   },
   "file_extension": ".py",
   "mimetype": "text/x-python",
   "name": "python",
   "nbconvert_exporter": "python",
   "pygments_lexer": "ipython3",
   "version": "3.9.4"
  },
  "orig_nbformat": 4
 },
 "nbformat": 4,
 "nbformat_minor": 2
}
